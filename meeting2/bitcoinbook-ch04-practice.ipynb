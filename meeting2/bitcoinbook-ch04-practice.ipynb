{
 "cells": [
  {
   "cell_type": "code",
   "execution_count": 1,
   "id": "5bd66cae-c571-4755-bd49-af30af11054e",
   "metadata": {},
   "outputs": [
    {
     "data": {
      "text/plain": [
       "0"
      ]
     },
     "execution_count": 1,
     "metadata": {},
     "output_type": "execute_result"
    }
   ],
   "source": [
    "p = 115792089237316195423570985008687907853269984665640564039457584007908834671663\n",
    "x = 55066263022277343669578718895168534326250603453777594175500187360389116729240\n",
    "y = 32670510020758816978083085130507043184471273380659243275938904335757337482424\n",
    "(x ** 3 + 7 - y**2) % p"
   ]
  },
  {
   "cell_type": "code",
   "execution_count": 1,
   "id": "c8f579ea-3403-4fa6-8789-47ea539ffeca",
   "metadata": {},
   "outputs": [],
   "source": [
    "import requests\n",
    "\n",
    "# This is the full URL to the raw content of the file on GitHub\n",
    "url = 'https://raw.githubusercontent.com/sipa/bech32/master/ref/python/segwit_addr.py'\n",
    "\n",
    "# Send a GET request to the URL\n",
    "response = requests.get(url)\n",
    "\n",
    "# Check if the request was successful\n",
    "if response.status_code == 200:\n",
    "    # Write the content of the response to a file.\n",
    "    with open('segwit_addr.py', 'wb') as file:\n",
    "        file.write(response.content)"
   ]
  },
  {
   "cell_type": "code",
   "execution_count": 4,
   "id": "2bee21ce-8c1d-4b68-a976-ff333379f89c",
   "metadata": {},
   "outputs": [],
   "source": [
    "from segwit_addr import *\n",
    "from binascii import unhexlify"
   ]
  },
  {
   "cell_type": "code",
   "execution_count": 5,
   "id": "df3b4839-524b-4b31-80cb-c77ce5f1fae7",
   "metadata": {},
   "outputs": [
    {
     "name": "stdout",
     "output_type": "stream",
     "text": [
      "Help on function encode in module segwit_addr:\n",
      "\n",
      "encode(hrp, witver, witprog)\n",
      "    Encode a segwit address.\n",
      "\n"
     ]
    }
   ],
   "source": [
    "help(encode)"
   ]
  },
  {
   "cell_type": "code",
   "execution_count": 6,
   "id": "b0dac368-88b3-45df-a522-9296a3e1fdfd",
   "metadata": {},
   "outputs": [
    {
     "data": {
      "text/plain": [
       "'bc1q9d3xa5gg45q2j39m9y32xzvygcgay4rgc6aaee'"
      ]
     },
     "execution_count": 6,
     "metadata": {},
     "output_type": "execute_result"
    }
   ],
   "source": [
    "encode('bc', 0, unhexlify('2b626ed108ad00a944bb2922a309844611d25468'))"
   ]
  },
  {
   "cell_type": "code",
   "execution_count": 7,
   "id": "1d243e97-060c-4123-85c7-d870816f1b35",
   "metadata": {},
   "outputs": [
    {
     "data": {
      "text/plain": [
       "'bc1qvj9r9egtd7mu2gemy28kpf4zefq4ssqzdzzycj7zjhk4arpavfhsct5a3p'"
      ]
     },
     "execution_count": 7,
     "metadata": {},
     "output_type": "execute_result"
    }
   ],
   "source": [
    "encode('bc', 0,\n",
    "unhexlify('648a32e50b6fb7c5233b228f60a6a2ca4158400268844c4bc295ed5e8c3d626f'))"
   ]
  },
  {
   "cell_type": "code",
   "execution_count": 8,
   "id": "ff5ec00d-4201-48c8-ba7c-4f68336708a4",
   "metadata": {},
   "outputs": [
    {
     "data": {
      "text/plain": [
       "'bc1p9nh05ha8wrljf7ru236awm4t2x0d5ctkkywmu9sclnm4t0av2vgs4k3au7'"
      ]
     },
     "execution_count": 8,
     "metadata": {},
     "output_type": "execute_result"
    }
   ],
   "source": [
    "encode('bc', 1,\n",
    "unhexlify('2ceefa5fa770ff24f87c5475d76eab519eda6176b11dbe1618fcf755bfac5311'))"
   ]
  },
  {
   "cell_type": "code",
   "execution_count": 9,
   "id": "2220560e-10f3-4608-85e6-8f40c88a3cdc",
   "metadata": {},
   "outputs": [
    {
     "data": {
      "text/plain": [
       "'bc1sqqqqkfw08p'"
      ]
     },
     "execution_count": 9,
     "metadata": {},
     "output_type": "execute_result"
    }
   ],
   "source": [
    "encode('bc', 16, unhexlify('0000'))"
   ]
  },
  {
   "cell_type": "code",
   "execution_count": null,
   "id": "23e88f76-7214-47ba-98c7-527405661735",
   "metadata": {},
   "outputs": [],
   "source": []
  },
  {
   "cell_type": "code",
   "execution_count": 10,
   "id": "183c4e64-b45a-4469-821d-3f71d2150d5b",
   "metadata": {},
   "outputs": [
    {
     "name": "stdout",
     "output_type": "stream",
     "text": [
      "Help on function decode in module segwit_addr:\n",
      "\n",
      "decode(hrp, addr)\n",
      "    Decode a segwit address.\n",
      "\n"
     ]
    }
   ],
   "source": [
    "help(decode)"
   ]
  },
  {
   "cell_type": "code",
   "execution_count": 15,
   "id": "47f7ee9d-fecf-4519-a4c5-fc366417cf0e",
   "metadata": {},
   "outputs": [
    {
     "data": {
      "text/plain": [
       "(0, '2b626ed108ad00a944bb2922a309844611d25468')"
      ]
     },
     "execution_count": 15,
     "metadata": {},
     "output_type": "execute_result"
    }
   ],
   "source": [
    "_ = decode(\"bc\", \"bc1q9d3xa5gg45q2j39m9y32xzvygcgay4rgc6aaee\")\n",
    "_[0], bytes(_[1]).hex()"
   ]
  },
  {
   "cell_type": "code",
   "execution_count": 14,
   "id": "32680bb1-d9e0-4742-87c5-cd746ae5fc31",
   "metadata": {},
   "outputs": [
    {
     "data": {
      "text/plain": [
       "(1, '2ceefa5fa770ff24f87c5475d76eab519eda6176b11dbe1618fcf755bfac5311')"
      ]
     },
     "execution_count": 14,
     "metadata": {},
     "output_type": "execute_result"
    }
   ],
   "source": [
    "_ = decode(\"bc\",\n",
    "        \"bc1p9nh05ha8wrljf7ru236awm4t2x0d5ctkkywmu9sclnm4t0av2vgs4k3au7\")\n",
    "_[0], bytes(_[1]).hex()"
   ]
  },
  {
   "cell_type": "code",
   "execution_count": null,
   "id": "3a44437b-be6c-439a-8a8a-97fac649636d",
   "metadata": {},
   "outputs": [],
   "source": []
  }
 ],
 "metadata": {
  "kernelspec": {
   "display_name": "Python 3 (ipykernel)",
   "language": "python",
   "name": "python3"
  },
  "language_info": {
   "codemirror_mode": {
    "name": "ipython",
    "version": 3
   },
   "file_extension": ".py",
   "mimetype": "text/x-python",
   "name": "python",
   "nbconvert_exporter": "python",
   "pygments_lexer": "ipython3",
   "version": "3.12.0"
  }
 },
 "nbformat": 4,
 "nbformat_minor": 5
}
